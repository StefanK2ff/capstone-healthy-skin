{
  "cells": [
    {
      "cell_type": "code",
      "execution_count": 131,
      "metadata": {
        "id": "DD-JKEZMLbeb"
      },
      "outputs": [],
      "source": [
        "import numpy as np\n",
        "import pandas as pd\n",
        "import tensorflow as tf\n",
        "from tensorflow.keras import layers\n",
        "from tensorflow.keras.applications import MobileNetV3Large\n",
        "from tensorflow.keras.applications.mobilenet_v3 import preprocess_input\n",
        "from tensorflow.keras.models import Model\n",
        "from tensorflow.keras.preprocessing.image import ImageDataGenerator\n",
        "from tensorflow.keras.callbacks import EarlyStopping, ReduceLROnPlateau\n",
        "from tensorflow.keras.optimizers import Adam\n",
        "from tensorflow.keras.callbacks import TensorBoard\n"
      ]
    },
    {
      "cell_type": "code",
      "execution_count": 132,
      "metadata": {
        "id": "scaSgmHzMsoh"
      },
      "outputs": [],
      "source": [
        "SEED = 42\n",
        "NUM_EPOCHS = 1\n",
        "TARGET_LABEL = \"dx\"\n",
        "BALANCE_LABEL = \"dx\"\n",
        "IMAGE_SIZE = (224, 224)\n",
        "BATCH_SIZE = 64"
      ]
    },
    {
      "cell_type": "code",
      "execution_count": 150,
      "metadata": {},
      "outputs": [],
      "source": [
        "FILEPATH_JPGS = './../data/jpgs/'\n",
        "FILEPATH_PROCESSED=\"./../data/processed/\"\n",
        "FILEPATH_OUTPUT = './../data/bjzim-models/'  # Replace with your folder path"
      ]
    },
    {
      "cell_type": "code",
      "execution_count": 134,
      "metadata": {
        "id": "ClM_Z44mMumW"
      },
      "outputs": [],
      "source": [
        "# Read the metadata file\n",
        "train_df = pd.read_csv(FILEPATH_PROCESSED+\"train_from_Metadata_processed.csv\")\n",
        "validation_df = pd.read_csv(FILEPATH_PROCESSED+\"validation_from_Metadata_processed.csv\")\n",
        "test_df = pd.read_csv(FILEPATH_PROCESSED+\"test_from_Metadata_processed.csv\")"
      ]
    },
    {
      "cell_type": "code",
      "execution_count": 135,
      "metadata": {},
      "outputs": [],
      "source": [
        "import os\n",
        "\n",
        "log_dir = \"./tensorboard_logs\"\n",
        "if not os.path.exists(log_dir):\n",
        "    os.mkdir(log_dir)"
      ]
    },
    {
      "cell_type": "code",
      "execution_count": 136,
      "metadata": {},
      "outputs": [],
      "source": [
        "tensorboard_callback = TensorBoard(log_dir=log_dir, histogram_freq=1)"
      ]
    },
    {
      "cell_type": "markdown",
      "metadata": {},
      "source": [
        "## Checking if validation/ test data are not augmented"
      ]
    },
    {
      "cell_type": "code",
      "execution_count": 137,
      "metadata": {},
      "outputs": [],
      "source": [
        "# Überprüfung für validation_df\n",
        "if any(validation_df['image_id'].str.startswith('aug_')):\n",
        "    print(\"Warnung: Augmentierte Daten im Validierungsset gefunden.\")\n",
        "\n",
        "# Überprüfung für test_df\n",
        "if any(test_df['image_id'].str.startswith('aug_')):\n",
        "    print(\"Warnung: Augmentierte Daten im Testset gefunden.\")\n"
      ]
    },
    {
      "cell_type": "markdown",
      "metadata": {},
      "source": [
        "## Data Preprocessing and Augmentation"
      ]
    },
    {
      "cell_type": "code",
      "execution_count": 138,
      "metadata": {},
      "outputs": [
        {
          "name": "stdout",
          "output_type": "stream",
          "text": [
            "Found 2003 validated image filenames belonging to 7 classes.\n"
          ]
        },
        {
          "name": "stdout",
          "output_type": "stream",
          "text": [
            "Found 5256 validated image filenames belonging to 7 classes.\n"
          ]
        }
      ],
      "source": [
        "# Setting up the Image Data Generators\n",
        "#Dadurch wird die Augmentation während des Trainings on-the-fly durchgeführt.\n",
        "datagen_train = ImageDataGenerator(\n",
        "    rescale=1.0 / 255.0,\n",
        "    preprocessing_function=preprocess_input,\n",
        "    rotation_range=30,\n",
        "    width_shift_range=0.2,\n",
        "    height_shift_range=0.2,\n",
        "    shear_range=0.2,\n",
        "    zoom_range=0.2,\n",
        "    horizontal_flip=True,\n",
        "    fill_mode='nearest'\n",
        ")\n",
        "\n",
        "datagen_validation = ImageDataGenerator(\n",
        "    rescale=1.0 / 255.0, #see above\n",
        "    preprocessing_function=preprocess_input\n",
        ")\n",
        "\n",
        "validation_generator = datagen_validation.flow_from_dataframe(\n",
        "    dataframe=validation_df,\n",
        "    directory=FILEPATH_JPGS,\n",
        "    x_col=\"image_id\",\n",
        "    y_col=TARGET_LABEL,\n",
        "    class_mode=\"categorical\",\n",
        "    target_size=IMAGE_SIZE,\n",
        "    batch_size=BATCH_SIZE\n",
        ")\n",
        "\n",
        "train_data_generator = datagen_train.flow_from_dataframe(\n",
        "        dataframe=train_df,\n",
        "        directory=FILEPATH_JPGS,\n",
        "        x_col=\"image_id\",\n",
        "        y_col=TARGET_LABEL,\n",
        "        class_mode=\"categorical\",\n",
        "        target_size=IMAGE_SIZE,\n",
        "        batch_size=BATCH_SIZE\n",
        ")"
      ]
    },
    {
      "cell_type": "code",
      "execution_count": 139,
      "metadata": {},
      "outputs": [],
      "source": [
        "# EarlyStopping-Callback\n",
        "early_stopping = EarlyStopping(\n",
        "    monitor='val_loss',  # Metrik, die überwacht wird\n",
        "    patience=10,         # Anzahl der Epochen ohne Verbesserung\n",
        "    verbose=1,           # Ausgabe-Steuerung\n",
        "    restore_best_weights=True  # Die besten Gewichtungen wiederherstellen\n",
        ")"
      ]
    },
    {
      "cell_type": "code",
      "execution_count": 140,
      "metadata": {},
      "outputs": [],
      "source": [
        "# ReduceLROnPlateau-Callback\n",
        "reduce_lr = ReduceLROnPlateau(\n",
        "    monitor='val_loss',  # Metrik, die überwacht wird\n",
        "    factor=0.1,          # Faktor, um die Lernrate zu reduzieren\n",
        "    patience=5,          # Anzahl der Epochen ohne Verbesserung\n",
        "    verbose=1,           # Ausgabe-Steuerung\n",
        "    min_lr=1e-6          # Minimale Lernrate\n",
        ")"
      ]
    },
    {
      "cell_type": "markdown",
      "metadata": {
        "id": "Yd5qtmFQcIRB"
      },
      "source": [
        "## **Build Model:**"
      ]
    },
    {
      "cell_type": "code",
      "execution_count": 141,
      "metadata": {
        "id": "hIhFCOFSPrKg"
      },
      "outputs": [],
      "source": [
        "# Initialize the MobileNetV3Large model\n",
        "base_model = MobileNetV3Large(weights='imagenet', include_top=False, input_shape=(IMAGE_SIZE[0], IMAGE_SIZE[1], 3))\n",
        "\n",
        "# Unfreeze some of the layers for fine-tuning\n",
        "for layer in base_model.layers[:100]:\n",
        "    layer.trainable = False\n",
        "for layer in base_model.layers[100:]:\n",
        "    layer.trainable = True\n",
        "\n",
        "\n",
        "# Add custom layers on top\n",
        "x = layers.Conv2D(128, (3, 3), activation='relu')(base_model.output)\n",
        "x = layers.BatchNormalization()(x)\n",
        "x = layers.Dropout(0.3)(x)\n",
        "x = layers.Flatten()(x)\n",
        "x = layers.Dense(128, activation='relu')(x)\n",
        "x = layers.BatchNormalization()(x)\n",
        "x = layers.Dropout(0.5)(x)\n",
        "x = layers.Dense(7, activation='softmax')(x)\n",
        "\n",
        "\n",
        "# Create the full model\n",
        "model = Model(inputs=base_model.input, outputs=x, name=\"MobilneNetV3Large_pretrained-weights_fixed-layers_custom-conv2D\")\n"
      ]
    },
    {
      "cell_type": "code",
      "execution_count": 142,
      "metadata": {},
      "outputs": [],
      "source": [
        "from tensorflow.keras.metrics import Precision, Recall, AUC\n",
        "\n",
        "# Compile the model\n",
        "# Ältere Version des Adam-Optimierers für M1/M2 Macs\n",
        "model.compile(\n",
        "    optimizer=tf.keras.optimizers.legacy.Adam(),\n",
        "    loss='categorical_crossentropy',\n",
        "    metrics=[\n",
        "        'accuracy',\n",
        "        Precision(name='precision'),\n",
        "        Recall(name='recall'),\n",
        "        AUC(name='auc')\n",
        "    ]\n",
        ")\n",
        "\n",
        "\n",
        "# model.summary()"
      ]
    },
    {
      "cell_type": "code",
      "execution_count": 143,
      "metadata": {},
      "outputs": [],
      "source": [
        "%load_ext tensorboard"
      ]
    },
    {
      "cell_type": "code",
      "execution_count": 144,
      "metadata": {
        "colab": {
          "base_uri": "https://localhost:8080/"
        },
        "id": "qtiS9NWTNkH2",
        "outputId": "545f599a-75a1-47bf-9347-133f22f9f4ee"
      },
      "outputs": [
        {
          "name": "stdout",
          "output_type": "stream",
          "text": [
            "83/83 [==============================] - 132s 2s/step - loss: 2.2367 - accuracy: 0.2437 - precision: 0.2837 - recall: 0.1046 - auc: 0.6461 - val_loss: 4.3793 - val_accuracy: 0.0145 - val_precision: 0.0145 - val_recall: 0.0145 - val_auc: 0.1911 - lr: 0.0010\n"
          ]
        }
      ],
      "source": [
        "# Train the model\n",
        "\n",
        "history = model.fit(\n",
        "    train_data_generator,\n",
        "    epochs=NUM_EPOCHS,\n",
        "    verbose=1,                      # Adjust verbosity level\n",
        "    batch_size=BATCH_SIZE,                # Set the batch size, default is 32, can be increased to speed up training, but memory consumption increases\n",
        "    callbacks=[early_stopping, reduce_lr, tensorboard_callback],                 # List of callbacks to apply during training\n",
        "    validation_split=0.0,           # not needed as we use a validation data generator\n",
        "    validation_data=validation_generator,\n",
        "    shuffle=True,                   # Shuffle the training data before each epoch\n",
        "    sample_weight=None,             # Set the weights for the train data set !\n",
        "    class_weight=None,              # Set the weights for the classes, not needed if we use sample weights\n",
        "    initial_epoch=0,                # Use this to continue training from a specific epoch\n",
        "    steps_per_epoch=None,           # Set the number of steps per epoch, default is len(x_train) // batch_size\n",
        "    validation_steps=None,          # Set the number of steps for validation, default is len(x_val) // batch_size\n",
        "    validation_batch_size=None,     # Set the batch size for validation, default is batch_size\n",
        "    validation_freq=1,              # Only relevant if validation data is a generator. Set the frequency to validate the model on the validation set\n",
        "    max_queue_size=10,              # Set the max size for the generator queue\n",
        "    workers=-1,                     # Set the max number of processes to generate the data in parallel, -1 means all CPUs\n",
        "    use_multiprocessing=False       # Set to True if you use a generator in parallel, e.g. model.predict_generator()\n",
        ")"
      ]
    },
    {
      "cell_type": "code",
      "execution_count": 148,
      "metadata": {},
      "outputs": [
        {
          "data": {
            "text/html": [
              "\n",
              "      <iframe id=\"tensorboard-frame-821125aa242c3447\" width=\"100%\" height=\"800\" frameborder=\"0\">\n",
              "      </iframe>\n",
              "      <script>\n",
              "        (function() {\n",
              "          const frame = document.getElementById(\"tensorboard-frame-821125aa242c3447\");\n",
              "          const url = new URL(\"/\", window.location);\n",
              "          const port = 6007;\n",
              "          if (port) {\n",
              "            url.port = port;\n",
              "          }\n",
              "          frame.src = url;\n",
              "        })();\n",
              "      </script>\n",
              "    "
            ],
            "text/plain": [
              "<IPython.core.display.HTML object>"
            ]
          },
          "metadata": {},
          "output_type": "display_data"
        }
      ],
      "source": [
        "%tensorboard --logdir ./tensorboard_logs --port 6007"
      ]
    },
    {
      "cell_type": "code",
      "execution_count": 146,
      "metadata": {},
      "outputs": [
        {
          "data": {
            "image/png": "[encoded data removed]",
            "text/plain": [
              "<Figure size 1500x1000 with 5 Axes>"
            ]
          },
          "metadata": {},
          "output_type": "display_data"
        }
      ],
      "source": [
        "import matplotlib.pyplot as plt\n",
        "\n",
        "# 'history' ist das Objekt, das von model.fit zurückgegeben wird\n",
        "# Es enthält den Trainingsverlauf zum plotten\n",
        "\n",
        "plt.figure(figsize=(15, 10))\n",
        "\n",
        "# Accuracy plotten\n",
        "plt.subplot(2, 3, 1)\n",
        "plt.plot(history.history['accuracy'])\n",
        "plt.plot(history.history['val_accuracy'])\n",
        "plt.title('Model Accuracy')\n",
        "plt.xlabel('Epoch')\n",
        "plt.ylabel('Accuracy')\n",
        "plt.legend(['Train', 'Validation'], loc='upper left')\n",
        "\n",
        "# Verlust plotten\n",
        "plt.subplot(2, 3, 2)\n",
        "plt.plot(history.history['loss'])\n",
        "plt.plot(history.history['val_loss'])\n",
        "plt.title('Model Loss')\n",
        "plt.xlabel('Epoch')\n",
        "plt.ylabel('Loss')\n",
        "plt.legend(['Train', 'Validation'], loc='upper left')\n",
        "\n",
        "# Precision plotten\n",
        "plt.subplot(2, 3, 3)\n",
        "plt.plot(history.history['precision'])\n",
        "plt.plot(history.history['val_precision'])\n",
        "plt.title('Model Precision')\n",
        "plt.xlabel('Epoch')\n",
        "plt.ylabel('Precision')\n",
        "plt.legend(['Train', 'Validation'], loc='upper left')\n",
        "\n",
        "# Recall plotten\n",
        "plt.subplot(2, 3, 4)\n",
        "plt.plot(history.history['recall'])\n",
        "plt.plot(history.history['val_recall'])\n",
        "plt.title('Model Recall')\n",
        "plt.xlabel('Epoch')\n",
        "plt.ylabel('Recall')\n",
        "plt.legend(['Train', 'Validation'], loc='upper left')\n",
        "\n",
        "# AUC plotten\n",
        "plt.subplot(2, 3, 5)\n",
        "plt.plot(history.history['auc'])\n",
        "plt.plot(history.history['val_auc'])\n",
        "plt.title('Model AUC')\n",
        "plt.xlabel('Epoch')\n",
        "plt.ylabel('AUC')\n",
        "plt.legend(['Train', 'Validation'], loc='upper left')\n",
        "\n",
        "plt.tight_layout()\n",
        "plt.show()\n"
      ]
    },
    {
      "cell_type": "code",
      "execution_count": 152,
      "metadata": {},
      "outputs": [
        {
          "name": "stderr",
          "output_type": "stream",
          "text": [
            "/Users/bjz/neueFische/capstone/capstone-healthy-skin/.venv/lib/python3.11/site-packages/keras/src/engine/training.py:3000: UserWarning: You are saving your model as an HDF5 file via `model.save()`. This file format is considered legacy. We recommend using instead the native Keras format, e.g. `model.save('my_model.keras')`.\n",
            "  saving_api.save_model(\n"
          ]
        }
      ],
      "source": [
        "from datetime import datetime\n",
        "timestamp = datetime.now()\n",
        "model_path = f\"{FILEPATH_OUTPUT}model_bjzim_MobileNetV3Large{timestamp}.h5\"\n",
        "model.save(model_path)\n",
        "\n"
      ]
    }
  ],
  "metadata": {
    "accelerator": "GPU",
    "colab": {
      "gpuType": "T4",
      "machine_shape": "hm",
      "provenance": [],
      "toc_visible": true
    },
    "kernelspec": {
      "display_name": "Python 3",
      "name": "python3"
    },
    "language_info": {
      "codemirror_mode": {
        "name": "ipython",
        "version": 3
      },
      "file_extension": ".py",
      "mimetype": "text/x-python",
      "name": "python",
      "nbconvert_exporter": "python",
      "pygments_lexer": "ipython3",
      "version": "3.11.3"
    }
  },
  "nbformat": 4,
  "nbformat_minor": 0
}
