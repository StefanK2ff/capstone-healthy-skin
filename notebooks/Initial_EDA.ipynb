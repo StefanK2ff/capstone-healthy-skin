{
 "cells": [
  {
   "cell_type": "markdown",
   "metadata": {},
   "source": [
    "## EDA -  HAM10000"
   ]
  },
  {
   "cell_type": "markdown",
   "metadata": {},
   "source": [
    "### 1. Importing Libraries"
   ]
  },
  {
   "cell_type": "code",
   "execution_count": 31,
   "metadata": {},
   "outputs": [],
   "source": [
    "import pandas as pd\n",
    "import numpy as np\n",
    "import matplotlib.pyplot as plt\n",
    "import seaborn as sns\n",
    "import missingno as msno"
   ]
  },
  {
   "cell_type": "markdown",
   "metadata": {},
   "source": [
    "### 2. Importing Data"
   ]
  },
  {
   "cell_type": "code",
   "execution_count": 32,
   "metadata": {},
   "outputs": [],
   "source": [
    "#import table from tab file\n",
    "dataframe = pd.read_csv('../data/HAM10000_metadata', delimiter=',')\n"
   ]
  },
  {
   "cell_type": "markdown",
   "metadata": {},
   "source": [
    "### 3. Data Exploration & Cleaning"
   ]
  },
  {
   "cell_type": "markdown",
   "metadata": {},
   "source": [
    "Ham10000_metadata consist of 8 features.  \n",
    "- lesion_id\n",
    "- image_id\n",
    "- dx with the following values\n",
    "    - bkl\n",
    "    - nv\n",
    "    - df\n",
    "    - vasc\n",
    "    - mel (final cancer)\n",
    "    - bcc (final cancer)\n",
    "    - dkiec (final cancer) \n",
    "\n",
    "- dx_type with the following values\n",
    "    - histo\n",
    "    - consensus\n",
    "    - confocal\n",
    "    - follow_up\n",
    "\n",
    "- age\n",
    "\n",
    "- sex\n",
    "    - male\n",
    "    - female\n",
    "    - unknown\n",
    "    \n",
    "- localization\n",
    "    - scalp\n",
    "    - ear\n",
    "    - face\n",
    "    - back\n",
    "    - trunk\n",
    "    - chest\n",
    "    - abdomen\n",
    "    - genital\n",
    "    - neck\n",
    "    - hand\n",
    "    - foot\n",
    "    - acral\n",
    "    - lower extremity\n",
    "    \n",
    "- dataset \n",
    "    - vidir_modern\n",
    "    - rosendahl\n",
    "    - vienna_dias\n",
    "    - vidir_molemax"
   ]
  },
  {
   "cell_type": "code",
   "execution_count": 33,
   "metadata": {},
   "outputs": [
    {
     "data": {
      "text/plain": [
       "array(['vidir_modern', 'rosendahl', 'vienna_dias', 'vidir_molemax'],\n",
       "      dtype=object)"
      ]
     },
     "execution_count": 33,
     "metadata": {},
     "output_type": "execute_result"
    }
   ],
   "source": [
    "dataframe.dataset.unique()"
   ]
  },
  {
   "cell_type": "code",
   "execution_count": 34,
   "metadata": {},
   "outputs": [
    {
     "data": {
      "text/plain": [
       "array(['scalp', 'ear', 'face', 'back', 'trunk', 'chest',\n",
       "       'upper extremity', 'abdomen', 'unknown', 'lower extremity',\n",
       "       'genital', 'neck', 'hand', 'foot', 'acral'], dtype=object)"
      ]
     },
     "execution_count": 34,
     "metadata": {},
     "output_type": "execute_result"
    }
   ],
   "source": [
    "dataframe.localization.unique()"
   ]
  },
  {
   "cell_type": "code",
   "execution_count": 35,
   "metadata": {},
   "outputs": [
    {
     "data": {
      "text/html": [
       "<div>\n",
       "<style scoped>\n",
       "    .dataframe tbody tr th:only-of-type {\n",
       "        vertical-align: middle;\n",
       "    }\n",
       "\n",
       "    .dataframe tbody tr th {\n",
       "        vertical-align: top;\n",
       "    }\n",
       "\n",
       "    .dataframe thead th {\n",
       "        text-align: right;\n",
       "    }\n",
       "</style>\n",
       "<table border=\"1\" class=\"dataframe\">\n",
       "  <thead>\n",
       "    <tr style=\"text-align: right;\">\n",
       "      <th></th>\n",
       "      <th>lesion_id</th>\n",
       "      <th>image_id</th>\n",
       "      <th>dx</th>\n",
       "      <th>dx_type</th>\n",
       "      <th>age</th>\n",
       "      <th>sex</th>\n",
       "      <th>localization</th>\n",
       "      <th>dataset</th>\n",
       "    </tr>\n",
       "  </thead>\n",
       "  <tbody>\n",
       "    <tr>\n",
       "      <th>0</th>\n",
       "      <td>HAM_0000118</td>\n",
       "      <td>ISIC_0027419</td>\n",
       "      <td>bkl</td>\n",
       "      <td>histo</td>\n",
       "      <td>80.0</td>\n",
       "      <td>male</td>\n",
       "      <td>scalp</td>\n",
       "      <td>vidir_modern</td>\n",
       "    </tr>\n",
       "    <tr>\n",
       "      <th>1</th>\n",
       "      <td>HAM_0000118</td>\n",
       "      <td>ISIC_0025030</td>\n",
       "      <td>bkl</td>\n",
       "      <td>histo</td>\n",
       "      <td>80.0</td>\n",
       "      <td>male</td>\n",
       "      <td>scalp</td>\n",
       "      <td>vidir_modern</td>\n",
       "    </tr>\n",
       "    <tr>\n",
       "      <th>2</th>\n",
       "      <td>HAM_0002730</td>\n",
       "      <td>ISIC_0026769</td>\n",
       "      <td>bkl</td>\n",
       "      <td>histo</td>\n",
       "      <td>80.0</td>\n",
       "      <td>male</td>\n",
       "      <td>scalp</td>\n",
       "      <td>vidir_modern</td>\n",
       "    </tr>\n",
       "    <tr>\n",
       "      <th>3</th>\n",
       "      <td>HAM_0002730</td>\n",
       "      <td>ISIC_0025661</td>\n",
       "      <td>bkl</td>\n",
       "      <td>histo</td>\n",
       "      <td>80.0</td>\n",
       "      <td>male</td>\n",
       "      <td>scalp</td>\n",
       "      <td>vidir_modern</td>\n",
       "    </tr>\n",
       "    <tr>\n",
       "      <th>4</th>\n",
       "      <td>HAM_0001466</td>\n",
       "      <td>ISIC_0031633</td>\n",
       "      <td>bkl</td>\n",
       "      <td>histo</td>\n",
       "      <td>75.0</td>\n",
       "      <td>male</td>\n",
       "      <td>ear</td>\n",
       "      <td>vidir_modern</td>\n",
       "    </tr>\n",
       "    <tr>\n",
       "      <th>5</th>\n",
       "      <td>HAM_0001466</td>\n",
       "      <td>ISIC_0027850</td>\n",
       "      <td>bkl</td>\n",
       "      <td>histo</td>\n",
       "      <td>75.0</td>\n",
       "      <td>male</td>\n",
       "      <td>ear</td>\n",
       "      <td>vidir_modern</td>\n",
       "    </tr>\n",
       "    <tr>\n",
       "      <th>6</th>\n",
       "      <td>HAM_0002761</td>\n",
       "      <td>ISIC_0029176</td>\n",
       "      <td>bkl</td>\n",
       "      <td>histo</td>\n",
       "      <td>60.0</td>\n",
       "      <td>male</td>\n",
       "      <td>face</td>\n",
       "      <td>vidir_modern</td>\n",
       "    </tr>\n",
       "    <tr>\n",
       "      <th>7</th>\n",
       "      <td>HAM_0002761</td>\n",
       "      <td>ISIC_0029068</td>\n",
       "      <td>bkl</td>\n",
       "      <td>histo</td>\n",
       "      <td>60.0</td>\n",
       "      <td>male</td>\n",
       "      <td>face</td>\n",
       "      <td>vidir_modern</td>\n",
       "    </tr>\n",
       "    <tr>\n",
       "      <th>8</th>\n",
       "      <td>HAM_0005132</td>\n",
       "      <td>ISIC_0025837</td>\n",
       "      <td>bkl</td>\n",
       "      <td>histo</td>\n",
       "      <td>70.0</td>\n",
       "      <td>female</td>\n",
       "      <td>back</td>\n",
       "      <td>vidir_modern</td>\n",
       "    </tr>\n",
       "    <tr>\n",
       "      <th>9</th>\n",
       "      <td>HAM_0005132</td>\n",
       "      <td>ISIC_0025209</td>\n",
       "      <td>bkl</td>\n",
       "      <td>histo</td>\n",
       "      <td>70.0</td>\n",
       "      <td>female</td>\n",
       "      <td>back</td>\n",
       "      <td>vidir_modern</td>\n",
       "    </tr>\n",
       "  </tbody>\n",
       "</table>\n",
       "</div>"
      ],
      "text/plain": [
       "     lesion_id      image_id   dx dx_type   age     sex localization   \n",
       "0  HAM_0000118  ISIC_0027419  bkl   histo  80.0    male        scalp  \\\n",
       "1  HAM_0000118  ISIC_0025030  bkl   histo  80.0    male        scalp   \n",
       "2  HAM_0002730  ISIC_0026769  bkl   histo  80.0    male        scalp   \n",
       "3  HAM_0002730  ISIC_0025661  bkl   histo  80.0    male        scalp   \n",
       "4  HAM_0001466  ISIC_0031633  bkl   histo  75.0    male          ear   \n",
       "5  HAM_0001466  ISIC_0027850  bkl   histo  75.0    male          ear   \n",
       "6  HAM_0002761  ISIC_0029176  bkl   histo  60.0    male         face   \n",
       "7  HAM_0002761  ISIC_0029068  bkl   histo  60.0    male         face   \n",
       "8  HAM_0005132  ISIC_0025837  bkl   histo  70.0  female         back   \n",
       "9  HAM_0005132  ISIC_0025209  bkl   histo  70.0  female         back   \n",
       "\n",
       "        dataset  \n",
       "0  vidir_modern  \n",
       "1  vidir_modern  \n",
       "2  vidir_modern  \n",
       "3  vidir_modern  \n",
       "4  vidir_modern  \n",
       "5  vidir_modern  \n",
       "6  vidir_modern  \n",
       "7  vidir_modern  \n",
       "8  vidir_modern  \n",
       "9  vidir_modern  "
      ]
     },
     "execution_count": 35,
     "metadata": {},
     "output_type": "execute_result"
    }
   ],
   "source": [
    "# show first 10 rows\n",
    "dataframe.head(10)"
   ]
  },
  {
   "cell_type": "markdown",
   "metadata": {},
   "source": [
    "#### Checking unique values in each column"
   ]
  },
  {
   "cell_type": "code",
   "execution_count": 36,
   "metadata": {},
   "outputs": [
    {
     "data": {
      "text/plain": [
       "array(['bkl', 'nv', 'df', 'mel', 'vasc', 'bcc', 'akiec'], dtype=object)"
      ]
     },
     "execution_count": 36,
     "metadata": {},
     "output_type": "execute_result"
    }
   ],
   "source": [
    "dataframe.dx.unique()"
   ]
  },
  {
   "cell_type": "markdown",
   "metadata": {},
   "source": [
    "not cancer:\n",
    "* bkl = benign keratosis-like lesions (solar lentigines / seborrheic keratoses and lichen-planus like keratoses)\n",
    "* nv = melanocytic nevi (normal moles)\n",
    "\n",
    "* df = dermatofibroma (small scar after insect bite etc.)\n",
    "* vasc = vascular lesions (angiomas, angiokeratomas, pyogenic granulomas and hemorrhage)\n",
    "\n",
    "Skin Cancer:\n",
    "* mel = melanoma (Skin cancer 1)\n",
    "* bcc = basal cell carcinoma (Skin cancer 2)\n",
    "* akiec = actinic keratoses and intraepithelial carcinoma / Bowen's disease (Skin cancer 3)"
   ]
  },
  {
   "cell_type": "code",
   "execution_count": 37,
   "metadata": {},
   "outputs": [
    {
     "data": {
      "text/plain": [
       "array(['histo', 'consensus', 'confocal', 'follow_up'], dtype=object)"
      ]
     },
     "execution_count": 37,
     "metadata": {},
     "output_type": "execute_result"
    }
   ],
   "source": [
    "dataframe.dx_type.unique()"
   ]
  },
  {
   "cell_type": "markdown",
   "metadata": {},
   "source": [
    "histo = confirmed through histopathology (more than 50% confirmed through this method)\n",
    "consensus = through expert consensus\n",
    "confocal = through in-vivo confocal microscopy\n",
    "follow_up = through clinical follow-up"
   ]
  },
  {
   "cell_type": "markdown",
   "metadata": {},
   "source": [
    "#### Problem 1: There are multiple images for some of the lesions(samples) in the dataset. We need to think about how to handle this."
   ]
  },
  {
   "cell_type": "code",
   "execution_count": 38,
   "metadata": {},
   "outputs": [
    {
     "data": {
      "text/plain": [
       "7470"
      ]
     },
     "execution_count": 38,
     "metadata": {},
     "output_type": "execute_result"
    }
   ],
   "source": [
    "dataframe.lesion_id.nunique()"
   ]
  },
  {
   "cell_type": "code",
   "execution_count": 39,
   "metadata": {},
   "outputs": [
    {
     "data": {
      "text/plain": [
       "lesion_id        7470\n",
       "image_id        10015\n",
       "dx                  7\n",
       "dx_type             4\n",
       "age                18\n",
       "sex                 3\n",
       "localization       15\n",
       "dataset             4\n",
       "dtype: int64"
      ]
     },
     "execution_count": 39,
     "metadata": {},
     "output_type": "execute_result"
    }
   ],
   "source": [
    "# some lesion id have multiple images\n",
    "dataframe.nunique()"
   ]
  },
  {
   "cell_type": "code",
   "execution_count": 40,
   "metadata": {},
   "outputs": [
    {
     "data": {
      "text/plain": [
       "lesion_id\n",
       "HAM_0003789    6\n",
       "HAM_0000835    6\n",
       "HAM_0005263    6\n",
       "HAM_0001863    6\n",
       "HAM_0007427    5\n",
       "              ..\n",
       "HAM_0002194    2\n",
       "HAM_0005336    2\n",
       "HAM_0005545    2\n",
       "HAM_0000048    2\n",
       "HAM_0005777    2\n",
       "Name: count, Length: 1956, dtype: int64"
      ]
     },
     "execution_count": 40,
     "metadata": {},
     "output_type": "execute_result"
    }
   ],
   "source": [
    "# only show lesion id with multiple images\n",
    "dataframe.lesion_id.value_counts()[dataframe.lesion_id.value_counts()>1]"
   ]
  },
  {
   "cell_type": "code",
   "execution_count": 41,
   "metadata": {},
   "outputs": [
    {
     "data": {
      "text/html": [
       "<div>\n",
       "<style scoped>\n",
       "    .dataframe tbody tr th:only-of-type {\n",
       "        vertical-align: middle;\n",
       "    }\n",
       "\n",
       "    .dataframe tbody tr th {\n",
       "        vertical-align: top;\n",
       "    }\n",
       "\n",
       "    .dataframe thead th {\n",
       "        text-align: right;\n",
       "    }\n",
       "</style>\n",
       "<table border=\"1\" class=\"dataframe\">\n",
       "  <thead>\n",
       "    <tr style=\"text-align: right;\">\n",
       "      <th></th>\n",
       "      <th>lesion_id</th>\n",
       "      <th>image_id</th>\n",
       "      <th>dx</th>\n",
       "      <th>dx_type</th>\n",
       "      <th>age</th>\n",
       "      <th>sex</th>\n",
       "      <th>localization</th>\n",
       "      <th>dataset</th>\n",
       "    </tr>\n",
       "  </thead>\n",
       "  <tbody>\n",
       "    <tr>\n",
       "      <th>805</th>\n",
       "      <td>HAM_0003789</td>\n",
       "      <td>ISIC_0026016</td>\n",
       "      <td>bkl</td>\n",
       "      <td>confocal</td>\n",
       "      <td>55.0</td>\n",
       "      <td>female</td>\n",
       "      <td>face</td>\n",
       "      <td>vidir_modern</td>\n",
       "    </tr>\n",
       "    <tr>\n",
       "      <th>806</th>\n",
       "      <td>HAM_0003789</td>\n",
       "      <td>ISIC_0029505</td>\n",
       "      <td>bkl</td>\n",
       "      <td>confocal</td>\n",
       "      <td>55.0</td>\n",
       "      <td>female</td>\n",
       "      <td>face</td>\n",
       "      <td>vidir_modern</td>\n",
       "    </tr>\n",
       "    <tr>\n",
       "      <th>817</th>\n",
       "      <td>HAM_0003789</td>\n",
       "      <td>ISIC_0031277</td>\n",
       "      <td>bkl</td>\n",
       "      <td>confocal</td>\n",
       "      <td>55.0</td>\n",
       "      <td>female</td>\n",
       "      <td>face</td>\n",
       "      <td>vidir_modern</td>\n",
       "    </tr>\n",
       "    <tr>\n",
       "      <th>819</th>\n",
       "      <td>HAM_0003789</td>\n",
       "      <td>ISIC_0031853</td>\n",
       "      <td>bkl</td>\n",
       "      <td>confocal</td>\n",
       "      <td>55.0</td>\n",
       "      <td>female</td>\n",
       "      <td>face</td>\n",
       "      <td>vidir_modern</td>\n",
       "    </tr>\n",
       "    <tr>\n",
       "      <th>867</th>\n",
       "      <td>HAM_0003789</td>\n",
       "      <td>ISIC_0029464</td>\n",
       "      <td>bkl</td>\n",
       "      <td>confocal</td>\n",
       "      <td>55.0</td>\n",
       "      <td>female</td>\n",
       "      <td>face</td>\n",
       "      <td>vidir_modern</td>\n",
       "    </tr>\n",
       "    <tr>\n",
       "      <th>869</th>\n",
       "      <td>HAM_0003789</td>\n",
       "      <td>ISIC_0024915</td>\n",
       "      <td>bkl</td>\n",
       "      <td>confocal</td>\n",
       "      <td>55.0</td>\n",
       "      <td>female</td>\n",
       "      <td>face</td>\n",
       "      <td>vidir_modern</td>\n",
       "    </tr>\n",
       "  </tbody>\n",
       "</table>\n",
       "</div>"
      ],
      "text/plain": [
       "       lesion_id      image_id   dx   dx_type   age     sex localization   \n",
       "805  HAM_0003789  ISIC_0026016  bkl  confocal  55.0  female         face  \\\n",
       "806  HAM_0003789  ISIC_0029505  bkl  confocal  55.0  female         face   \n",
       "817  HAM_0003789  ISIC_0031277  bkl  confocal  55.0  female         face   \n",
       "819  HAM_0003789  ISIC_0031853  bkl  confocal  55.0  female         face   \n",
       "867  HAM_0003789  ISIC_0029464  bkl  confocal  55.0  female         face   \n",
       "869  HAM_0003789  ISIC_0024915  bkl  confocal  55.0  female         face   \n",
       "\n",
       "          dataset  \n",
       "805  vidir_modern  \n",
       "806  vidir_modern  \n",
       "817  vidir_modern  \n",
       "819  vidir_modern  \n",
       "867  vidir_modern  \n",
       "869  vidir_modern  "
      ]
     },
     "execution_count": 41,
     "metadata": {},
     "output_type": "execute_result"
    }
   ],
   "source": [
    "# show all entries of this specific lesion HAM_0003789\n",
    "dataframe[dataframe.lesion_id == 'HAM_0003789']"
   ]
  },
  {
   "cell_type": "code",
   "execution_count": 42,
   "metadata": {},
   "outputs": [
    {
     "data": {
      "text/html": [
       "<div>\n",
       "<style scoped>\n",
       "    .dataframe tbody tr th:only-of-type {\n",
       "        vertical-align: middle;\n",
       "    }\n",
       "\n",
       "    .dataframe tbody tr th {\n",
       "        vertical-align: top;\n",
       "    }\n",
       "\n",
       "    .dataframe thead th {\n",
       "        text-align: right;\n",
       "    }\n",
       "</style>\n",
       "<table border=\"1\" class=\"dataframe\">\n",
       "  <thead>\n",
       "    <tr style=\"text-align: right;\">\n",
       "      <th></th>\n",
       "      <th>lesion_id</th>\n",
       "      <th>image_id</th>\n",
       "      <th>dx</th>\n",
       "      <th>dx_type</th>\n",
       "      <th>age</th>\n",
       "      <th>sex</th>\n",
       "      <th>localization</th>\n",
       "      <th>dataset</th>\n",
       "    </tr>\n",
       "  </thead>\n",
       "  <tbody>\n",
       "    <tr>\n",
       "      <th>962</th>\n",
       "      <td>HAM_0007427</td>\n",
       "      <td>ISIC_0033660</td>\n",
       "      <td>bkl</td>\n",
       "      <td>consensus</td>\n",
       "      <td>60.0</td>\n",
       "      <td>female</td>\n",
       "      <td>back</td>\n",
       "      <td>vidir_modern</td>\n",
       "    </tr>\n",
       "    <tr>\n",
       "      <th>963</th>\n",
       "      <td>HAM_0007427</td>\n",
       "      <td>ISIC_0034221</td>\n",
       "      <td>bkl</td>\n",
       "      <td>consensus</td>\n",
       "      <td>60.0</td>\n",
       "      <td>female</td>\n",
       "      <td>back</td>\n",
       "      <td>vidir_modern</td>\n",
       "    </tr>\n",
       "    <tr>\n",
       "      <th>964</th>\n",
       "      <td>HAM_0007427</td>\n",
       "      <td>ISIC_0033945</td>\n",
       "      <td>bkl</td>\n",
       "      <td>consensus</td>\n",
       "      <td>60.0</td>\n",
       "      <td>female</td>\n",
       "      <td>back</td>\n",
       "      <td>vidir_modern</td>\n",
       "    </tr>\n",
       "    <tr>\n",
       "      <th>965</th>\n",
       "      <td>HAM_0007427</td>\n",
       "      <td>ISIC_0033491</td>\n",
       "      <td>bkl</td>\n",
       "      <td>consensus</td>\n",
       "      <td>60.0</td>\n",
       "      <td>female</td>\n",
       "      <td>back</td>\n",
       "      <td>vidir_modern</td>\n",
       "    </tr>\n",
       "    <tr>\n",
       "      <th>966</th>\n",
       "      <td>HAM_0007427</td>\n",
       "      <td>ISIC_0034280</td>\n",
       "      <td>bkl</td>\n",
       "      <td>consensus</td>\n",
       "      <td>60.0</td>\n",
       "      <td>female</td>\n",
       "      <td>back</td>\n",
       "      <td>vidir_modern</td>\n",
       "    </tr>\n",
       "  </tbody>\n",
       "</table>\n",
       "</div>"
      ],
      "text/plain": [
       "       lesion_id      image_id   dx    dx_type   age     sex localization   \n",
       "962  HAM_0007427  ISIC_0033660  bkl  consensus  60.0  female         back  \\\n",
       "963  HAM_0007427  ISIC_0034221  bkl  consensus  60.0  female         back   \n",
       "964  HAM_0007427  ISIC_0033945  bkl  consensus  60.0  female         back   \n",
       "965  HAM_0007427  ISIC_0033491  bkl  consensus  60.0  female         back   \n",
       "966  HAM_0007427  ISIC_0034280  bkl  consensus  60.0  female         back   \n",
       "\n",
       "          dataset  \n",
       "962  vidir_modern  \n",
       "963  vidir_modern  \n",
       "964  vidir_modern  \n",
       "965  vidir_modern  \n",
       "966  vidir_modern  "
      ]
     },
     "execution_count": 42,
     "metadata": {},
     "output_type": "execute_result"
    }
   ],
   "source": [
    "# show all entries of this specific lesion HAM_0007427\n",
    "dataframe[dataframe.lesion_id == 'HAM_0007427']"
   ]
  },
  {
   "cell_type": "markdown",
   "metadata": {},
   "source": [
    "distribution of multiple images per disease class\n",
    "possibly leakage between train and test set from multiple images per disease class\n",
    "how to label the images from the metadata?\n",
    "remove all duplicates but one?"
   ]
  },
  {
   "cell_type": "markdown",
   "metadata": {},
   "source": [
    "#### Solution Problem 1:"
   ]
  },
  {
   "cell_type": "code",
   "execution_count": 43,
   "metadata": {},
   "outputs": [],
   "source": [
    "# only keep the first entry of each lesion id\n",
    "#df_dropped = dataframe.drop_duplicates(subset='lesion_id', keep=\"first\")\n",
    "#df_dropped = dataframe.drop_duplicates(subset='lesion_id', keep=\"random\")"
   ]
  },
  {
   "cell_type": "markdown",
   "metadata": {},
   "source": [
    "how to remove the duplicates from the image folder?"
   ]
  },
  {
   "cell_type": "markdown",
   "metadata": {},
   "source": [
    "#### Problem 2: Missing Values in Age column - We can either drop the rows with missing values or impute the missing values with mean/median/mode."
   ]
  },
  {
   "cell_type": "code",
   "execution_count": 44,
   "metadata": {},
   "outputs": [
    {
     "data": {
      "text/plain": [
       "count    9958.000000\n",
       "mean       51.863828\n",
       "std        16.968614\n",
       "min         0.000000\n",
       "25%        40.000000\n",
       "50%        50.000000\n",
       "75%        65.000000\n",
       "max        85.000000\n",
       "Name: age, dtype: float64"
      ]
     },
     "execution_count": 44,
     "metadata": {},
     "output_type": "execute_result"
    }
   ],
   "source": [
    "# show range of age\n",
    "dataframe.age.describe()"
   ]
  },
  {
   "cell_type": "code",
   "execution_count": 45,
   "metadata": {},
   "outputs": [
    {
     "data": {
      "text/plain": [
       "<Axes: >"
      ]
     },
     "execution_count": 45,
     "metadata": {},
     "output_type": "execute_result"
    },
    {
     "data": {
      "image/png": "[encoded data removed]",
      "text/plain": [
       "<Figure size 2500x1000 with 2 Axes>"
      ]
     },
     "metadata": {},
     "output_type": "display_data"
    }
   ],
   "source": [
    "#visualize missing values\n",
    "msno.matrix(dataframe)"
   ]
  },
  {
   "cell_type": "code",
   "execution_count": 46,
   "metadata": {},
   "outputs": [
    {
     "data": {
      "text/html": [
       "<div>\n",
       "<style scoped>\n",
       "    .dataframe tbody tr th:only-of-type {\n",
       "        vertical-align: middle;\n",
       "    }\n",
       "\n",
       "    .dataframe tbody tr th {\n",
       "        vertical-align: top;\n",
       "    }\n",
       "\n",
       "    .dataframe thead th {\n",
       "        text-align: right;\n",
       "    }\n",
       "</style>\n",
       "<table border=\"1\" class=\"dataframe\">\n",
       "  <thead>\n",
       "    <tr style=\"text-align: right;\">\n",
       "      <th></th>\n",
       "      <th>lesion_id</th>\n",
       "      <th>image_id</th>\n",
       "      <th>dx</th>\n",
       "      <th>dx_type</th>\n",
       "      <th>age</th>\n",
       "      <th>sex</th>\n",
       "      <th>localization</th>\n",
       "      <th>dataset</th>\n",
       "    </tr>\n",
       "  </thead>\n",
       "  <tbody>\n",
       "    <tr>\n",
       "      <th>968</th>\n",
       "      <td>HAM_0001186</td>\n",
       "      <td>ISIC_0033391</td>\n",
       "      <td>bkl</td>\n",
       "      <td>consensus</td>\n",
       "      <td>NaN</td>\n",
       "      <td>unknown</td>\n",
       "      <td>unknown</td>\n",
       "      <td>vidir_modern</td>\n",
       "    </tr>\n",
       "    <tr>\n",
       "      <th>969</th>\n",
       "      <td>HAM_0002660</td>\n",
       "      <td>ISIC_0033750</td>\n",
       "      <td>bkl</td>\n",
       "      <td>consensus</td>\n",
       "      <td>NaN</td>\n",
       "      <td>unknown</td>\n",
       "      <td>unknown</td>\n",
       "      <td>vidir_modern</td>\n",
       "    </tr>\n",
       "    <tr>\n",
       "      <th>970</th>\n",
       "      <td>HAM_0000372</td>\n",
       "      <td>ISIC_0033685</td>\n",
       "      <td>bkl</td>\n",
       "      <td>consensus</td>\n",
       "      <td>NaN</td>\n",
       "      <td>unknown</td>\n",
       "      <td>unknown</td>\n",
       "      <td>vidir_modern</td>\n",
       "    </tr>\n",
       "    <tr>\n",
       "      <th>971</th>\n",
       "      <td>HAM_0000948</td>\n",
       "      <td>ISIC_0033631</td>\n",
       "      <td>bkl</td>\n",
       "      <td>consensus</td>\n",
       "      <td>NaN</td>\n",
       "      <td>unknown</td>\n",
       "      <td>unknown</td>\n",
       "      <td>vidir_modern</td>\n",
       "    </tr>\n",
       "    <tr>\n",
       "      <th>972</th>\n",
       "      <td>HAM_0000983</td>\n",
       "      <td>ISIC_0033490</td>\n",
       "      <td>bkl</td>\n",
       "      <td>consensus</td>\n",
       "      <td>NaN</td>\n",
       "      <td>unknown</td>\n",
       "      <td>unknown</td>\n",
       "      <td>vidir_modern</td>\n",
       "    </tr>\n",
       "    <tr>\n",
       "      <th>973</th>\n",
       "      <td>HAM_0007281</td>\n",
       "      <td>ISIC_0034283</td>\n",
       "      <td>bkl</td>\n",
       "      <td>consensus</td>\n",
       "      <td>NaN</td>\n",
       "      <td>unknown</td>\n",
       "      <td>unknown</td>\n",
       "      <td>vidir_modern</td>\n",
       "    </tr>\n",
       "    <tr>\n",
       "      <th>974</th>\n",
       "      <td>HAM_0001561</td>\n",
       "      <td>ISIC_0032740</td>\n",
       "      <td>bkl</td>\n",
       "      <td>consensus</td>\n",
       "      <td>NaN</td>\n",
       "      <td>unknown</td>\n",
       "      <td>unknown</td>\n",
       "      <td>vidir_modern</td>\n",
       "    </tr>\n",
       "    <tr>\n",
       "      <th>975</th>\n",
       "      <td>HAM_0000825</td>\n",
       "      <td>ISIC_0034186</td>\n",
       "      <td>bkl</td>\n",
       "      <td>consensus</td>\n",
       "      <td>NaN</td>\n",
       "      <td>unknown</td>\n",
       "      <td>unknown</td>\n",
       "      <td>vidir_modern</td>\n",
       "    </tr>\n",
       "    <tr>\n",
       "      <th>977</th>\n",
       "      <td>HAM_0006074</td>\n",
       "      <td>ISIC_0034252</td>\n",
       "      <td>bkl</td>\n",
       "      <td>consensus</td>\n",
       "      <td>NaN</td>\n",
       "      <td>unknown</td>\n",
       "      <td>unknown</td>\n",
       "      <td>vidir_modern</td>\n",
       "    </tr>\n",
       "    <tr>\n",
       "      <th>978</th>\n",
       "      <td>HAM_0006074</td>\n",
       "      <td>ISIC_0033829</td>\n",
       "      <td>bkl</td>\n",
       "      <td>consensus</td>\n",
       "      <td>NaN</td>\n",
       "      <td>unknown</td>\n",
       "      <td>unknown</td>\n",
       "      <td>vidir_modern</td>\n",
       "    </tr>\n",
       "    <tr>\n",
       "      <th>1886</th>\n",
       "      <td>HAM_0000169</td>\n",
       "      <td>ISIC_0032960</td>\n",
       "      <td>mel</td>\n",
       "      <td>histo</td>\n",
       "      <td>NaN</td>\n",
       "      <td>male</td>\n",
       "      <td>face</td>\n",
       "      <td>vidir_modern</td>\n",
       "    </tr>\n",
       "    <tr>\n",
       "      <th>1887</th>\n",
       "      <td>HAM_0000169</td>\n",
       "      <td>ISIC_0033708</td>\n",
       "      <td>mel</td>\n",
       "      <td>histo</td>\n",
       "      <td>NaN</td>\n",
       "      <td>male</td>\n",
       "      <td>face</td>\n",
       "      <td>vidir_modern</td>\n",
       "    </tr>\n",
       "    <tr>\n",
       "      <th>7558</th>\n",
       "      <td>HAM_0007278</td>\n",
       "      <td>ISIC_0025009</td>\n",
       "      <td>nv</td>\n",
       "      <td>histo</td>\n",
       "      <td>NaN</td>\n",
       "      <td>female</td>\n",
       "      <td>chest</td>\n",
       "      <td>rosendahl</td>\n",
       "    </tr>\n",
       "    <tr>\n",
       "      <th>7961</th>\n",
       "      <td>HAM_0002417</td>\n",
       "      <td>ISIC_0033442</td>\n",
       "      <td>nv</td>\n",
       "      <td>histo</td>\n",
       "      <td>NaN</td>\n",
       "      <td>male</td>\n",
       "      <td>upper extremity</td>\n",
       "      <td>vidir_modern</td>\n",
       "    </tr>\n",
       "    <tr>\n",
       "      <th>7962</th>\n",
       "      <td>HAM_0002417</td>\n",
       "      <td>ISIC_0032943</td>\n",
       "      <td>nv</td>\n",
       "      <td>histo</td>\n",
       "      <td>NaN</td>\n",
       "      <td>male</td>\n",
       "      <td>upper extremity</td>\n",
       "      <td>vidir_modern</td>\n",
       "    </tr>\n",
       "    <tr>\n",
       "      <th>8410</th>\n",
       "      <td>HAM_0006706</td>\n",
       "      <td>ISIC_0031725</td>\n",
       "      <td>nv</td>\n",
       "      <td>histo</td>\n",
       "      <td>NaN</td>\n",
       "      <td>female</td>\n",
       "      <td>abdomen</td>\n",
       "      <td>vidir_molemax</td>\n",
       "    </tr>\n",
       "    <tr>\n",
       "      <th>8411</th>\n",
       "      <td>HAM_0004924</td>\n",
       "      <td>ISIC_0027040</td>\n",
       "      <td>nv</td>\n",
       "      <td>histo</td>\n",
       "      <td>NaN</td>\n",
       "      <td>female</td>\n",
       "      <td>trunk</td>\n",
       "      <td>vidir_molemax</td>\n",
       "    </tr>\n",
       "    <tr>\n",
       "      <th>8555</th>\n",
       "      <td>HAM_0007278</td>\n",
       "      <td>ISIC_0032300</td>\n",
       "      <td>nv</td>\n",
       "      <td>histo</td>\n",
       "      <td>NaN</td>\n",
       "      <td>female</td>\n",
       "      <td>chest</td>\n",
       "      <td>rosendahl</td>\n",
       "    </tr>\n",
       "    <tr>\n",
       "      <th>9386</th>\n",
       "      <td>HAM_0000698</td>\n",
       "      <td>ISIC_0031668</td>\n",
       "      <td>nv</td>\n",
       "      <td>consensus</td>\n",
       "      <td>NaN</td>\n",
       "      <td>male</td>\n",
       "      <td>foot</td>\n",
       "      <td>vidir_modern</td>\n",
       "    </tr>\n",
       "    <tr>\n",
       "      <th>9387</th>\n",
       "      <td>HAM_0000698</td>\n",
       "      <td>ISIC_0027431</td>\n",
       "      <td>nv</td>\n",
       "      <td>consensus</td>\n",
       "      <td>NaN</td>\n",
       "      <td>male</td>\n",
       "      <td>foot</td>\n",
       "      <td>vidir_modern</td>\n",
       "    </tr>\n",
       "    <tr>\n",
       "      <th>9593</th>\n",
       "      <td>HAM_0006766</td>\n",
       "      <td>ISIC_0033374</td>\n",
       "      <td>nv</td>\n",
       "      <td>consensus</td>\n",
       "      <td>NaN</td>\n",
       "      <td>unknown</td>\n",
       "      <td>unknown</td>\n",
       "      <td>vidir_modern</td>\n",
       "    </tr>\n",
       "    <tr>\n",
       "      <th>9594</th>\n",
       "      <td>HAM_0004237</td>\n",
       "      <td>ISIC_0033877</td>\n",
       "      <td>nv</td>\n",
       "      <td>consensus</td>\n",
       "      <td>NaN</td>\n",
       "      <td>unknown</td>\n",
       "      <td>unknown</td>\n",
       "      <td>vidir_modern</td>\n",
       "    </tr>\n",
       "    <tr>\n",
       "      <th>9595</th>\n",
       "      <td>HAM_0007460</td>\n",
       "      <td>ISIC_0032578</td>\n",
       "      <td>nv</td>\n",
       "      <td>consensus</td>\n",
       "      <td>NaN</td>\n",
       "      <td>unknown</td>\n",
       "      <td>unknown</td>\n",
       "      <td>vidir_modern</td>\n",
       "    </tr>\n",
       "    <tr>\n",
       "      <th>9596</th>\n",
       "      <td>HAM_0000822</td>\n",
       "      <td>ISIC_0033841</td>\n",
       "      <td>nv</td>\n",
       "      <td>consensus</td>\n",
       "      <td>NaN</td>\n",
       "      <td>unknown</td>\n",
       "      <td>unknown</td>\n",
       "      <td>vidir_modern</td>\n",
       "    </tr>\n",
       "    <tr>\n",
       "      <th>9597</th>\n",
       "      <td>HAM_0006644</td>\n",
       "      <td>ISIC_0033882</td>\n",
       "      <td>nv</td>\n",
       "      <td>consensus</td>\n",
       "      <td>NaN</td>\n",
       "      <td>unknown</td>\n",
       "      <td>unknown</td>\n",
       "      <td>vidir_modern</td>\n",
       "    </tr>\n",
       "    <tr>\n",
       "      <th>9598</th>\n",
       "      <td>HAM_0004120</td>\n",
       "      <td>ISIC_0034266</td>\n",
       "      <td>nv</td>\n",
       "      <td>consensus</td>\n",
       "      <td>NaN</td>\n",
       "      <td>unknown</td>\n",
       "      <td>unknown</td>\n",
       "      <td>vidir_modern</td>\n",
       "    </tr>\n",
       "    <tr>\n",
       "      <th>9599</th>\n",
       "      <td>HAM_0005257</td>\n",
       "      <td>ISIC_0033751</td>\n",
       "      <td>nv</td>\n",
       "      <td>consensus</td>\n",
       "      <td>NaN</td>\n",
       "      <td>unknown</td>\n",
       "      <td>unknown</td>\n",
       "      <td>vidir_modern</td>\n",
       "    </tr>\n",
       "    <tr>\n",
       "      <th>9600</th>\n",
       "      <td>HAM_0001619</td>\n",
       "      <td>ISIC_0033065</td>\n",
       "      <td>nv</td>\n",
       "      <td>consensus</td>\n",
       "      <td>NaN</td>\n",
       "      <td>unknown</td>\n",
       "      <td>unknown</td>\n",
       "      <td>vidir_modern</td>\n",
       "    </tr>\n",
       "    <tr>\n",
       "      <th>9601</th>\n",
       "      <td>HAM_0001147</td>\n",
       "      <td>ISIC_0033375</td>\n",
       "      <td>nv</td>\n",
       "      <td>consensus</td>\n",
       "      <td>NaN</td>\n",
       "      <td>unknown</td>\n",
       "      <td>unknown</td>\n",
       "      <td>vidir_modern</td>\n",
       "    </tr>\n",
       "    <tr>\n",
       "      <th>9602</th>\n",
       "      <td>HAM_0004508</td>\n",
       "      <td>ISIC_0033628</td>\n",
       "      <td>nv</td>\n",
       "      <td>consensus</td>\n",
       "      <td>NaN</td>\n",
       "      <td>unknown</td>\n",
       "      <td>unknown</td>\n",
       "      <td>vidir_modern</td>\n",
       "    </tr>\n",
       "    <tr>\n",
       "      <th>9603</th>\n",
       "      <td>HAM_0002037</td>\n",
       "      <td>ISIC_0033733</td>\n",
       "      <td>nv</td>\n",
       "      <td>consensus</td>\n",
       "      <td>NaN</td>\n",
       "      <td>unknown</td>\n",
       "      <td>unknown</td>\n",
       "      <td>vidir_modern</td>\n",
       "    </tr>\n",
       "    <tr>\n",
       "      <th>9604</th>\n",
       "      <td>HAM_0007191</td>\n",
       "      <td>ISIC_0032738</td>\n",
       "      <td>nv</td>\n",
       "      <td>consensus</td>\n",
       "      <td>NaN</td>\n",
       "      <td>unknown</td>\n",
       "      <td>unknown</td>\n",
       "      <td>vidir_modern</td>\n",
       "    </tr>\n",
       "    <tr>\n",
       "      <th>9605</th>\n",
       "      <td>HAM_0001000</td>\n",
       "      <td>ISIC_0033353</td>\n",
       "      <td>nv</td>\n",
       "      <td>consensus</td>\n",
       "      <td>NaN</td>\n",
       "      <td>unknown</td>\n",
       "      <td>unknown</td>\n",
       "      <td>vidir_modern</td>\n",
       "    </tr>\n",
       "    <tr>\n",
       "      <th>9606</th>\n",
       "      <td>HAM_0000627</td>\n",
       "      <td>ISIC_0034019</td>\n",
       "      <td>nv</td>\n",
       "      <td>consensus</td>\n",
       "      <td>NaN</td>\n",
       "      <td>unknown</td>\n",
       "      <td>unknown</td>\n",
       "      <td>vidir_modern</td>\n",
       "    </tr>\n",
       "    <tr>\n",
       "      <th>9607</th>\n",
       "      <td>HAM_0002164</td>\n",
       "      <td>ISIC_0032852</td>\n",
       "      <td>nv</td>\n",
       "      <td>consensus</td>\n",
       "      <td>NaN</td>\n",
       "      <td>unknown</td>\n",
       "      <td>unknown</td>\n",
       "      <td>vidir_modern</td>\n",
       "    </tr>\n",
       "    <tr>\n",
       "      <th>9608</th>\n",
       "      <td>HAM_0000421</td>\n",
       "      <td>ISIC_0034080</td>\n",
       "      <td>nv</td>\n",
       "      <td>consensus</td>\n",
       "      <td>NaN</td>\n",
       "      <td>unknown</td>\n",
       "      <td>unknown</td>\n",
       "      <td>vidir_modern</td>\n",
       "    </tr>\n",
       "    <tr>\n",
       "      <th>9609</th>\n",
       "      <td>HAM_0003561</td>\n",
       "      <td>ISIC_0034154</td>\n",
       "      <td>nv</td>\n",
       "      <td>consensus</td>\n",
       "      <td>NaN</td>\n",
       "      <td>unknown</td>\n",
       "      <td>unknown</td>\n",
       "      <td>vidir_modern</td>\n",
       "    </tr>\n",
       "    <tr>\n",
       "      <th>9610</th>\n",
       "      <td>HAM_0004430</td>\n",
       "      <td>ISIC_0032789</td>\n",
       "      <td>nv</td>\n",
       "      <td>consensus</td>\n",
       "      <td>NaN</td>\n",
       "      <td>unknown</td>\n",
       "      <td>unknown</td>\n",
       "      <td>vidir_modern</td>\n",
       "    </tr>\n",
       "    <tr>\n",
       "      <th>9611</th>\n",
       "      <td>HAM_0007301</td>\n",
       "      <td>ISIC_0033417</td>\n",
       "      <td>nv</td>\n",
       "      <td>consensus</td>\n",
       "      <td>NaN</td>\n",
       "      <td>unknown</td>\n",
       "      <td>unknown</td>\n",
       "      <td>vidir_modern</td>\n",
       "    </tr>\n",
       "    <tr>\n",
       "      <th>9612</th>\n",
       "      <td>HAM_0003935</td>\n",
       "      <td>ISIC_0033782</td>\n",
       "      <td>nv</td>\n",
       "      <td>consensus</td>\n",
       "      <td>NaN</td>\n",
       "      <td>unknown</td>\n",
       "      <td>unknown</td>\n",
       "      <td>vidir_modern</td>\n",
       "    </tr>\n",
       "    <tr>\n",
       "      <th>9613</th>\n",
       "      <td>HAM_0001118</td>\n",
       "      <td>ISIC_0033332</td>\n",
       "      <td>nv</td>\n",
       "      <td>consensus</td>\n",
       "      <td>NaN</td>\n",
       "      <td>unknown</td>\n",
       "      <td>unknown</td>\n",
       "      <td>vidir_modern</td>\n",
       "    </tr>\n",
       "    <tr>\n",
       "      <th>9614</th>\n",
       "      <td>HAM_0007172</td>\n",
       "      <td>ISIC_0034130</td>\n",
       "      <td>nv</td>\n",
       "      <td>consensus</td>\n",
       "      <td>NaN</td>\n",
       "      <td>unknown</td>\n",
       "      <td>unknown</td>\n",
       "      <td>vidir_modern</td>\n",
       "    </tr>\n",
       "    <tr>\n",
       "      <th>9615</th>\n",
       "      <td>HAM_0003696</td>\n",
       "      <td>ISIC_0032945</td>\n",
       "      <td>nv</td>\n",
       "      <td>consensus</td>\n",
       "      <td>NaN</td>\n",
       "      <td>unknown</td>\n",
       "      <td>unknown</td>\n",
       "      <td>vidir_modern</td>\n",
       "    </tr>\n",
       "    <tr>\n",
       "      <th>9616</th>\n",
       "      <td>HAM_0005439</td>\n",
       "      <td>ISIC_0033597</td>\n",
       "      <td>nv</td>\n",
       "      <td>consensus</td>\n",
       "      <td>NaN</td>\n",
       "      <td>unknown</td>\n",
       "      <td>unknown</td>\n",
       "      <td>vidir_modern</td>\n",
       "    </tr>\n",
       "    <tr>\n",
       "      <th>9617</th>\n",
       "      <td>HAM_0002282</td>\n",
       "      <td>ISIC_0034045</td>\n",
       "      <td>nv</td>\n",
       "      <td>consensus</td>\n",
       "      <td>NaN</td>\n",
       "      <td>unknown</td>\n",
       "      <td>unknown</td>\n",
       "      <td>vidir_modern</td>\n",
       "    </tr>\n",
       "    <tr>\n",
       "      <th>9618</th>\n",
       "      <td>HAM_0001139</td>\n",
       "      <td>ISIC_0033028</td>\n",
       "      <td>nv</td>\n",
       "      <td>consensus</td>\n",
       "      <td>NaN</td>\n",
       "      <td>unknown</td>\n",
       "      <td>unknown</td>\n",
       "      <td>vidir_modern</td>\n",
       "    </tr>\n",
       "    <tr>\n",
       "      <th>9619</th>\n",
       "      <td>HAM_0003998</td>\n",
       "      <td>ISIC_0033809</td>\n",
       "      <td>nv</td>\n",
       "      <td>consensus</td>\n",
       "      <td>NaN</td>\n",
       "      <td>unknown</td>\n",
       "      <td>unknown</td>\n",
       "      <td>vidir_modern</td>\n",
       "    </tr>\n",
       "    <tr>\n",
       "      <th>9620</th>\n",
       "      <td>HAM_0003034</td>\n",
       "      <td>ISIC_0033187</td>\n",
       "      <td>nv</td>\n",
       "      <td>consensus</td>\n",
       "      <td>NaN</td>\n",
       "      <td>unknown</td>\n",
       "      <td>unknown</td>\n",
       "      <td>vidir_modern</td>\n",
       "    </tr>\n",
       "    <tr>\n",
       "      <th>9621</th>\n",
       "      <td>HAM_0001366</td>\n",
       "      <td>ISIC_0032814</td>\n",
       "      <td>nv</td>\n",
       "      <td>consensus</td>\n",
       "      <td>NaN</td>\n",
       "      <td>unknown</td>\n",
       "      <td>unknown</td>\n",
       "      <td>vidir_modern</td>\n",
       "    </tr>\n",
       "    <tr>\n",
       "      <th>9622</th>\n",
       "      <td>HAM_0004670</td>\n",
       "      <td>ISIC_0033190</td>\n",
       "      <td>nv</td>\n",
       "      <td>consensus</td>\n",
       "      <td>NaN</td>\n",
       "      <td>unknown</td>\n",
       "      <td>unknown</td>\n",
       "      <td>vidir_modern</td>\n",
       "    </tr>\n",
       "    <tr>\n",
       "      <th>9623</th>\n",
       "      <td>HAM_0003017</td>\n",
       "      <td>ISIC_0033535</td>\n",
       "      <td>nv</td>\n",
       "      <td>consensus</td>\n",
       "      <td>NaN</td>\n",
       "      <td>unknown</td>\n",
       "      <td>unknown</td>\n",
       "      <td>vidir_modern</td>\n",
       "    </tr>\n",
       "    <tr>\n",
       "      <th>9624</th>\n",
       "      <td>HAM_0005156</td>\n",
       "      <td>ISIC_0033330</td>\n",
       "      <td>nv</td>\n",
       "      <td>consensus</td>\n",
       "      <td>NaN</td>\n",
       "      <td>unknown</td>\n",
       "      <td>unknown</td>\n",
       "      <td>vidir_modern</td>\n",
       "    </tr>\n",
       "    <tr>\n",
       "      <th>9625</th>\n",
       "      <td>HAM_0001209</td>\n",
       "      <td>ISIC_0033064</td>\n",
       "      <td>nv</td>\n",
       "      <td>consensus</td>\n",
       "      <td>NaN</td>\n",
       "      <td>unknown</td>\n",
       "      <td>unknown</td>\n",
       "      <td>vidir_modern</td>\n",
       "    </tr>\n",
       "    <tr>\n",
       "      <th>9626</th>\n",
       "      <td>HAM_0002402</td>\n",
       "      <td>ISIC_0033515</td>\n",
       "      <td>nv</td>\n",
       "      <td>consensus</td>\n",
       "      <td>NaN</td>\n",
       "      <td>unknown</td>\n",
       "      <td>unknown</td>\n",
       "      <td>vidir_modern</td>\n",
       "    </tr>\n",
       "    <tr>\n",
       "      <th>9627</th>\n",
       "      <td>HAM_0001433</td>\n",
       "      <td>ISIC_0033735</td>\n",
       "      <td>nv</td>\n",
       "      <td>consensus</td>\n",
       "      <td>NaN</td>\n",
       "      <td>unknown</td>\n",
       "      <td>unknown</td>\n",
       "      <td>vidir_modern</td>\n",
       "    </tr>\n",
       "    <tr>\n",
       "      <th>9628</th>\n",
       "      <td>HAM_0006643</td>\n",
       "      <td>ISIC_0033982</td>\n",
       "      <td>nv</td>\n",
       "      <td>consensus</td>\n",
       "      <td>NaN</td>\n",
       "      <td>unknown</td>\n",
       "      <td>unknown</td>\n",
       "      <td>vidir_modern</td>\n",
       "    </tr>\n",
       "    <tr>\n",
       "      <th>9629</th>\n",
       "      <td>HAM_0003300</td>\n",
       "      <td>ISIC_0034195</td>\n",
       "      <td>nv</td>\n",
       "      <td>consensus</td>\n",
       "      <td>NaN</td>\n",
       "      <td>unknown</td>\n",
       "      <td>unknown</td>\n",
       "      <td>vidir_modern</td>\n",
       "    </tr>\n",
       "  </tbody>\n",
       "</table>\n",
       "</div>"
      ],
      "text/plain": [
       "        lesion_id      image_id   dx    dx_type  age      sex   \n",
       "968   HAM_0001186  ISIC_0033391  bkl  consensus  NaN  unknown  \\\n",
       "969   HAM_0002660  ISIC_0033750  bkl  consensus  NaN  unknown   \n",
       "970   HAM_0000372  ISIC_0033685  bkl  consensus  NaN  unknown   \n",
       "971   HAM_0000948  ISIC_0033631  bkl  consensus  NaN  unknown   \n",
       "972   HAM_0000983  ISIC_0033490  bkl  consensus  NaN  unknown   \n",
       "973   HAM_0007281  ISIC_0034283  bkl  consensus  NaN  unknown   \n",
       "974   HAM_0001561  ISIC_0032740  bkl  consensus  NaN  unknown   \n",
       "975   HAM_0000825  ISIC_0034186  bkl  consensus  NaN  unknown   \n",
       "977   HAM_0006074  ISIC_0034252  bkl  consensus  NaN  unknown   \n",
       "978   HAM_0006074  ISIC_0033829  bkl  consensus  NaN  unknown   \n",
       "1886  HAM_0000169  ISIC_0032960  mel      histo  NaN     male   \n",
       "1887  HAM_0000169  ISIC_0033708  mel      histo  NaN     male   \n",
       "7558  HAM_0007278  ISIC_0025009   nv      histo  NaN   female   \n",
       "7961  HAM_0002417  ISIC_0033442   nv      histo  NaN     male   \n",
       "7962  HAM_0002417  ISIC_0032943   nv      histo  NaN     male   \n",
       "8410  HAM_0006706  ISIC_0031725   nv      histo  NaN   female   \n",
       "8411  HAM_0004924  ISIC_0027040   nv      histo  NaN   female   \n",
       "8555  HAM_0007278  ISIC_0032300   nv      histo  NaN   female   \n",
       "9386  HAM_0000698  ISIC_0031668   nv  consensus  NaN     male   \n",
       "9387  HAM_0000698  ISIC_0027431   nv  consensus  NaN     male   \n",
       "9593  HAM_0006766  ISIC_0033374   nv  consensus  NaN  unknown   \n",
       "9594  HAM_0004237  ISIC_0033877   nv  consensus  NaN  unknown   \n",
       "9595  HAM_0007460  ISIC_0032578   nv  consensus  NaN  unknown   \n",
       "9596  HAM_0000822  ISIC_0033841   nv  consensus  NaN  unknown   \n",
       "9597  HAM_0006644  ISIC_0033882   nv  consensus  NaN  unknown   \n",
       "9598  HAM_0004120  ISIC_0034266   nv  consensus  NaN  unknown   \n",
       "9599  HAM_0005257  ISIC_0033751   nv  consensus  NaN  unknown   \n",
       "9600  HAM_0001619  ISIC_0033065   nv  consensus  NaN  unknown   \n",
       "9601  HAM_0001147  ISIC_0033375   nv  consensus  NaN  unknown   \n",
       "9602  HAM_0004508  ISIC_0033628   nv  consensus  NaN  unknown   \n",
       "9603  HAM_0002037  ISIC_0033733   nv  consensus  NaN  unknown   \n",
       "9604  HAM_0007191  ISIC_0032738   nv  consensus  NaN  unknown   \n",
       "9605  HAM_0001000  ISIC_0033353   nv  consensus  NaN  unknown   \n",
       "9606  HAM_0000627  ISIC_0034019   nv  consensus  NaN  unknown   \n",
       "9607  HAM_0002164  ISIC_0032852   nv  consensus  NaN  unknown   \n",
       "9608  HAM_0000421  ISIC_0034080   nv  consensus  NaN  unknown   \n",
       "9609  HAM_0003561  ISIC_0034154   nv  consensus  NaN  unknown   \n",
       "9610  HAM_0004430  ISIC_0032789   nv  consensus  NaN  unknown   \n",
       "9611  HAM_0007301  ISIC_0033417   nv  consensus  NaN  unknown   \n",
       "9612  HAM_0003935  ISIC_0033782   nv  consensus  NaN  unknown   \n",
       "9613  HAM_0001118  ISIC_0033332   nv  consensus  NaN  unknown   \n",
       "9614  HAM_0007172  ISIC_0034130   nv  consensus  NaN  unknown   \n",
       "9615  HAM_0003696  ISIC_0032945   nv  consensus  NaN  unknown   \n",
       "9616  HAM_0005439  ISIC_0033597   nv  consensus  NaN  unknown   \n",
       "9617  HAM_0002282  ISIC_0034045   nv  consensus  NaN  unknown   \n",
       "9618  HAM_0001139  ISIC_0033028   nv  consensus  NaN  unknown   \n",
       "9619  HAM_0003998  ISIC_0033809   nv  consensus  NaN  unknown   \n",
       "9620  HAM_0003034  ISIC_0033187   nv  consensus  NaN  unknown   \n",
       "9621  HAM_0001366  ISIC_0032814   nv  consensus  NaN  unknown   \n",
       "9622  HAM_0004670  ISIC_0033190   nv  consensus  NaN  unknown   \n",
       "9623  HAM_0003017  ISIC_0033535   nv  consensus  NaN  unknown   \n",
       "9624  HAM_0005156  ISIC_0033330   nv  consensus  NaN  unknown   \n",
       "9625  HAM_0001209  ISIC_0033064   nv  consensus  NaN  unknown   \n",
       "9626  HAM_0002402  ISIC_0033515   nv  consensus  NaN  unknown   \n",
       "9627  HAM_0001433  ISIC_0033735   nv  consensus  NaN  unknown   \n",
       "9628  HAM_0006643  ISIC_0033982   nv  consensus  NaN  unknown   \n",
       "9629  HAM_0003300  ISIC_0034195   nv  consensus  NaN  unknown   \n",
       "\n",
       "         localization        dataset  \n",
       "968           unknown   vidir_modern  \n",
       "969           unknown   vidir_modern  \n",
       "970           unknown   vidir_modern  \n",
       "971           unknown   vidir_modern  \n",
       "972           unknown   vidir_modern  \n",
       "973           unknown   vidir_modern  \n",
       "974           unknown   vidir_modern  \n",
       "975           unknown   vidir_modern  \n",
       "977           unknown   vidir_modern  \n",
       "978           unknown   vidir_modern  \n",
       "1886             face   vidir_modern  \n",
       "1887             face   vidir_modern  \n",
       "7558            chest      rosendahl  \n",
       "7961  upper extremity   vidir_modern  \n",
       "7962  upper extremity   vidir_modern  \n",
       "8410          abdomen  vidir_molemax  \n",
       "8411            trunk  vidir_molemax  \n",
       "8555            chest      rosendahl  \n",
       "9386             foot   vidir_modern  \n",
       "9387             foot   vidir_modern  \n",
       "9593          unknown   vidir_modern  \n",
       "9594          unknown   vidir_modern  \n",
       "9595          unknown   vidir_modern  \n",
       "9596          unknown   vidir_modern  \n",
       "9597          unknown   vidir_modern  \n",
       "9598          unknown   vidir_modern  \n",
       "9599          unknown   vidir_modern  \n",
       "9600          unknown   vidir_modern  \n",
       "9601          unknown   vidir_modern  \n",
       "9602          unknown   vidir_modern  \n",
       "9603          unknown   vidir_modern  \n",
       "9604          unknown   vidir_modern  \n",
       "9605          unknown   vidir_modern  \n",
       "9606          unknown   vidir_modern  \n",
       "9607          unknown   vidir_modern  \n",
       "9608          unknown   vidir_modern  \n",
       "9609          unknown   vidir_modern  \n",
       "9610          unknown   vidir_modern  \n",
       "9611          unknown   vidir_modern  \n",
       "9612          unknown   vidir_modern  \n",
       "9613          unknown   vidir_modern  \n",
       "9614          unknown   vidir_modern  \n",
       "9615          unknown   vidir_modern  \n",
       "9616          unknown   vidir_modern  \n",
       "9617          unknown   vidir_modern  \n",
       "9618          unknown   vidir_modern  \n",
       "9619          unknown   vidir_modern  \n",
       "9620          unknown   vidir_modern  \n",
       "9621          unknown   vidir_modern  \n",
       "9622          unknown   vidir_modern  \n",
       "9623          unknown   vidir_modern  \n",
       "9624          unknown   vidir_modern  \n",
       "9625          unknown   vidir_modern  \n",
       "9626          unknown   vidir_modern  \n",
       "9627          unknown   vidir_modern  \n",
       "9628          unknown   vidir_modern  \n",
       "9629          unknown   vidir_modern  "
      ]
     },
     "execution_count": 46,
     "metadata": {},
     "output_type": "execute_result"
    }
   ],
   "source": [
    "# show missing rows in age column\n",
    "dataframe[dataframe['age'].isnull()]"
   ]
  },
  {
   "cell_type": "code",
   "execution_count": 47,
   "metadata": {},
   "outputs": [
    {
     "data": {
      "text/plain": [
       "lesion_id       57\n",
       "image_id        57\n",
       "dx              57\n",
       "dx_type         57\n",
       "age              0\n",
       "sex             57\n",
       "localization    57\n",
       "dataset         57\n",
       "dtype: int64"
      ]
     },
     "execution_count": 47,
     "metadata": {},
     "output_type": "execute_result"
    }
   ],
   "source": [
    "#show count of missing rows in age column\n",
    "dataframe[dataframe['age'].isnull()].count()"
   ]
  },
  {
   "cell_type": "markdown",
   "metadata": {},
   "source": [
    "#### Solution Problem 2:"
   ]
  },
  {
   "cell_type": "code",
   "execution_count": 48,
   "metadata": {},
   "outputs": [],
   "source": [
    "# replace NaN with the mean of the age column\n",
    "#df_filled = dataframe['age'].fillna((dataframe['age'].mean()), inplace=True)"
   ]
  },
  {
   "cell_type": "markdown",
   "metadata": {},
   "source": [
    "solve later"
   ]
  },
  {
   "cell_type": "markdown",
   "metadata": {},
   "source": [
    "### Distribution of classes"
   ]
  },
  {
   "cell_type": "markdown",
   "metadata": {},
   "source": [
    "#### 1) Distribution of diagnosis"
   ]
  },
  {
   "cell_type": "code",
   "execution_count": 49,
   "metadata": {},
   "outputs": [
    {
     "data": {
      "text/plain": [
       "<Axes: xlabel='dx', ylabel='Count'>"
      ]
     },
     "execution_count": 49,
     "metadata": {},
     "output_type": "execute_result"
    },
    {
     "data": {
      "image/png": "[encoded data removed]",
      "text/plain": [
       "<Figure size 640x480 with 1 Axes>"
      ]
     },
     "metadata": {},
     "output_type": "display_data"
    }
   ],
   "source": [
    "sns.histplot(dataframe.dx)"
   ]
  },
  {
   "cell_type": "markdown",
   "metadata": {},
   "source": [
    "Target classifier is very imbalanced. We need to see if Tensorflow has problems with that. \n",
    "* Class weights - penalize the model for misclassifying minority class\n",
    "* Data Augmentation - create more samples for minority class by multiple random transformations\n",
    "* Resampling - create more samples for minority class by duplicating existing samples (SMOTE,variational autoencoders)\n",
    "* Evaluation Metrics - Accuracy is not a good metric for imbalanced datasets. We can use F1 score, precision, recall, AUC etc."
   ]
  },
  {
   "cell_type": "markdown",
   "metadata": {},
   "source": [
    "Solutions: Subset of equal amount of images, anomaly detection, image augmentation"
   ]
  },
  {
   "cell_type": "markdown",
   "metadata": {},
   "source": [
    "#### 2) Distribution of location of the lesion"
   ]
  },
  {
   "cell_type": "code",
   "execution_count": 50,
   "metadata": {},
   "outputs": [
    {
     "data": {
      "text/plain": [
       "array(['scalp', 'ear', 'face', 'back', 'trunk', 'chest',\n",
       "       'upper extremity', 'abdomen', 'unknown', 'lower extremity',\n",
       "       'genital', 'neck', 'hand', 'foot', 'acral'], dtype=object)"
      ]
     },
     "execution_count": 50,
     "metadata": {},
     "output_type": "execute_result"
    }
   ],
   "source": [
    "dataframe.localization.unique()"
   ]
  },
  {
   "cell_type": "markdown",
   "metadata": {},
   "source": [
    "Classes like trunk include chest,back,abdomen,genital and might overlap with upper extremity. We might need to decide where to classify these lesions. Maybe we can agglumerate all these classes into one class called trunk."
   ]
  },
  {
   "cell_type": "markdown",
   "metadata": {},
   "source": [
    "Maybe we can agglumerate some classes together like face and ear etc.\n"
   ]
  },
  {
   "cell_type": "code",
   "execution_count": 51,
   "metadata": {},
   "outputs": [
    {
     "data": {
      "image/png": "[encoded data removed]",
      "text/plain": [
       "<Figure size 640x480 with 1 Axes>"
      ]
     },
     "metadata": {},
     "output_type": "display_data"
    }
   ],
   "source": [
    "# histplot of localization\n",
    "sns.histplot(dataframe.localization)\n",
    "plt.xticks(rotation=90)\n",
    "plt.show()"
   ]
  },
  {
   "cell_type": "markdown",
   "metadata": {},
   "source": [
    "correlation between cancerous / non-cancerous vs the location found"
   ]
  },
  {
   "cell_type": "code",
   "execution_count": 52,
   "metadata": {},
   "outputs": [
    {
     "data": {
      "image/png": "[encoded data removed]",
      "text/plain": [
       "<Figure size 640x480 with 2 Axes>"
      ]
     },
     "metadata": {},
     "output_type": "display_data"
    }
   ],
   "source": [
    "# correlation between localization and type of lesion\n",
    "# dropping nv because of the high number of entries\n",
    "\n",
    "# plot localization vs dx except for nv\n",
    "sns.heatmap(pd.crosstab(dataframe.localization, dataframe.dx[dataframe.dx != 'nv']), cmap='Blues')\n",
    "#sns.heatmap(pd.crosstab(dataframe.localization, dataframe.dx), cmap='Blues')\n",
    "plt.xticks(rotation=45)\n",
    "plt.show()"
   ]
  },
  {
   "cell_type": "markdown",
   "metadata": {},
   "source": [
    "#### 3) Distribution of Age and Sex"
   ]
  },
  {
   "cell_type": "code",
   "execution_count": 53,
   "metadata": {},
   "outputs": [
    {
     "data": {
      "text/plain": [
       "<Axes: xlabel='sex', ylabel='Count'>"
      ]
     },
     "execution_count": 53,
     "metadata": {},
     "output_type": "execute_result"
    },
    {
     "data": {
      "image/png": "[encoded data removed]",
      "text/plain": [
       "<Figure size 640x480 with 1 Axes>"
      ]
     },
     "metadata": {},
     "output_type": "display_data"
    }
   ],
   "source": [
    "# histplot of sex\n",
    "sns.histplot(dataframe.sex)"
   ]
  },
  {
   "cell_type": "code",
   "execution_count": 54,
   "metadata": {},
   "outputs": [
    {
     "data": {
      "image/png": "[encoded data removed]",
      "text/plain": [
       "<Figure size 640x480 with 1 Axes>"
      ]
     },
     "metadata": {},
     "output_type": "display_data"
    }
   ],
   "source": [
    "# plot sex vs age\n",
    "sns.boxplot(x='sex', y='age', data=dataframe)\n",
    "plt.xticks(rotation=45)\n",
    "plt.show()"
   ]
  },
  {
   "cell_type": "markdown",
   "metadata": {},
   "source": [
    "Maybe we can remove the unknown class"
   ]
  },
  {
   "cell_type": "code",
   "execution_count": 55,
   "metadata": {},
   "outputs": [
    {
     "data": {
      "text/plain": [
       "<Axes: xlabel='age', ylabel='Count'>"
      ]
     },
     "execution_count": 55,
     "metadata": {},
     "output_type": "execute_result"
    },
    {
     "data": {
      "image/png": "[encoded data removed]",
      "text/plain": [
       "<Figure size 640x480 with 1 Axes>"
      ]
     },
     "metadata": {},
     "output_type": "display_data"
    }
   ],
   "source": [
    "# histplot of age\n",
    "sns.histplot(dataframe.age)"
   ]
  },
  {
   "cell_type": "code",
   "execution_count": 56,
   "metadata": {},
   "outputs": [
    {
     "data": {
      "image/png": "[encoded data removed]",
      "text/plain": [
       "<Figure size 640x480 with 1 Axes>"
      ]
     },
     "metadata": {},
     "output_type": "display_data"
    }
   ],
   "source": [
    "# plot age vs dx\n",
    "sns.boxplot(x='dx', y='age', data=dataframe)\n",
    "plt.xticks(rotation=45)\n",
    "plt.show()"
   ]
  },
  {
   "cell_type": "markdown",
   "metadata": {},
   "source": [
    "Nv and Vasc have the youngest entries and the biggest span of ages. This is probably because these are the most common skin lesions and can occur at any age."
   ]
  },
  {
   "cell_type": "code",
   "execution_count": 57,
   "metadata": {},
   "outputs": [
    {
     "data": {
      "text/plain": [
       "lesion_id       243\n",
       "image_id        243\n",
       "dx              243\n",
       "dx_type         243\n",
       "age             243\n",
       "sex             243\n",
       "localization    243\n",
       "dataset         243\n",
       "dtype: int64"
      ]
     },
     "execution_count": 57,
     "metadata": {},
     "output_type": "execute_result"
    }
   ],
   "source": [
    "# show all entries with age lower than 20\n",
    "dataframe[dataframe.age < 20].count()"
   ]
  },
  {
   "cell_type": "markdown",
   "metadata": {},
   "source": [
    "Maybe set a cutoff to exclude young peoples samples"
   ]
  },
  {
   "cell_type": "markdown",
   "metadata": {},
   "source": [
    "there is no clear difference between the sexes in terms of age distribution. Maybe a cutoff can be set around 20 to remove some outliers."
   ]
  },
  {
   "cell_type": "markdown",
   "metadata": {},
   "source": [
    "#### 4) Distribution of type of ground truth"
   ]
  },
  {
   "cell_type": "code",
   "execution_count": 58,
   "metadata": {},
   "outputs": [
    {
     "data": {
      "text/plain": [
       "<Axes: xlabel='dx_type', ylabel='Count'>"
      ]
     },
     "execution_count": 58,
     "metadata": {},
     "output_type": "execute_result"
    },
    {
     "data": {
      "image/png": "[encoded data removed]",
      "text/plain": [
       "<Figure size 640x480 with 1 Axes>"
      ]
     },
     "metadata": {},
     "output_type": "display_data"
    }
   ],
   "source": [
    "sns.histplot(dataframe.dx_type)"
   ]
  },
  {
   "cell_type": "markdown",
   "metadata": {},
   "source": [
    "distribution between cancerous/ non cancerous\n",
    "do lesion_id/image_id come up again in dx_type follow up"
   ]
  },
  {
   "cell_type": "markdown",
   "metadata": {},
   "source": [
    "can think about making two classes the doctor's praxis or the laboratory(confocal/histo)"
   ]
  },
  {
   "cell_type": "code",
   "execution_count": 59,
   "metadata": {},
   "outputs": [
    {
     "data": {
      "text/plain": [
       "<Axes: xlabel='dataset', ylabel='Count'>"
      ]
     },
     "execution_count": 59,
     "metadata": {},
     "output_type": "execute_result"
    },
    {
     "data": {
      "image/png": "[encoded data removed]",
      "text/plain": [
       "<Figure size 640x480 with 1 Axes>"
      ]
     },
     "metadata": {},
     "output_type": "display_data"
    }
   ],
   "source": [
    "sns.histplot(dataframe.dataset)"
   ]
  },
  {
   "cell_type": "code",
   "execution_count": 61,
   "metadata": {},
   "outputs": [
    {
     "data": {
      "text/plain": [
       "lesion_id\n",
       "HAM_0000000    1\n",
       "HAM_0005042    1\n",
       "HAM_0005054    1\n",
       "HAM_0005053    1\n",
       "HAM_0005052    1\n",
       "              ..\n",
       "HAM_0002501    1\n",
       "HAM_0002500    1\n",
       "HAM_0002499    1\n",
       "HAM_0002498    1\n",
       "HAM_0007628    1\n",
       "Name: dx_type, Length: 7470, dtype: int64"
      ]
     },
     "execution_count": 61,
     "metadata": {},
     "output_type": "execute_result"
    }
   ],
   "source": [
    "#check if there are images with different dx for same lesion_id\n",
    "dataframe.groupby(['lesion_id'])['dx_type'].nunique().sort_values(ascending=False)"
   ]
  },
  {
   "cell_type": "code",
   "execution_count": 62,
   "metadata": {},
   "outputs": [
    {
     "data": {
      "text/plain": [
       "lesion_id\n",
       "HAM_0000000    1\n",
       "HAM_0005042    1\n",
       "HAM_0005054    1\n",
       "HAM_0005053    1\n",
       "HAM_0005052    1\n",
       "              ..\n",
       "HAM_0002501    1\n",
       "HAM_0002500    1\n",
       "HAM_0002499    1\n",
       "HAM_0002498    1\n",
       "HAM_0007628    1\n",
       "Name: dx, Length: 7470, dtype: int64"
      ]
     },
     "execution_count": 62,
     "metadata": {},
     "output_type": "execute_result"
    }
   ],
   "source": [
    "#check if there are images with different dx for same lesion_id\n",
    "dataframe.groupby(['lesion_id'])['dx'].nunique().sort_values(ascending=False)"
   ]
  }
 ],
 "metadata": {
  "kernelspec": {
   "display_name": ".venv",
   "language": "python",
   "name": "python3"
  },
  "language_info": {
   "codemirror_mode": {
    "name": "ipython",
    "version": 3
   },
   "file_extension": ".py",
   "mimetype": "text/x-python",
   "name": "python",
   "nbconvert_exporter": "python",
   "pygments_lexer": "ipython3",
   "version": "3.11.3"
  },
  "orig_nbformat": 4
 },
 "nbformat": 4,
 "nbformat_minor": 2
}
